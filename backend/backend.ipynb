{
 "cells": [
  {
   "cell_type": "code",
   "execution_count": 12,
   "metadata": {},
   "outputs": [],
   "source": [
    "from sklearn.linear_model import LinearRegression \n",
    "import numpy as np\n",
    "\n",
    "models = {\n",
    "    \"train_x\" : None, \n",
    "    \"trainingPrice\" : None, \n",
    "    \"trainingDate\" : None,  \n",
    "    \n",
    "    \"test_x\" : None,  \n",
    "    \"realPrice\" : None, \n",
    "    \"predictedPrice\" : None, \n",
    "    \"predictedDate\" : None,  \n",
    "\n",
    "    \"coef_value\" : None, \n",
    "    \"coef_name\" : None, \n",
    "} "
   ]
  },
  {
   "cell_type": "code",
   "execution_count": 14,
   "metadata": {},
   "outputs": [],
   "source": [
    "def fit_linear_regression(): \n",
    "    linearReg = LinearRegression(fit_intercept=False)\n",
    "    fittedReg = linearReg.fit(models[\"train_x\"], models[\"trainingPrice\"])\n",
    "    models[\"coef_value\"] = fittedReg.coef_ \n",
    "    models[\"predictedPrice\"] = fittedReg.predict(models[\"test_x\"]) \n",
    "\n",
    "    print(models[\"coef_value\"]) \n",
    "    print(models[\"predictedPrice\"]) \n",
    "\n",
    "\n"
   ]
  },
  {
   "cell_type": "code",
   "execution_count": 18,
   "metadata": {},
   "outputs": [
    {
     "name": "stdout",
     "output_type": "stream",
     "text": [
      "[ 1.81545967 -0.60713272  3.49559918  2.2063403   0.2884997   2.68935126\n",
      "  1.22386084 -2.24070301  3.30139279  1.22212589 -2.31817132  1.5061535\n",
      "  2.04611013  2.80656752 -0.69175716  2.37513142  2.0770889  -0.2292427\n",
      "  0.51401665  2.70918986  0.17069033 -0.44559891  3.7433646 ]\n",
      "[13.47991886 17.07857253 13.44316784]\n"
     ]
    }
   ],
   "source": [
    "def init():  \n",
    "    models[\"train_x\"] = np.random.rand(10, 23) \n",
    "    models[\"test_x\"] = np.random.rand(3, 23) \n",
    "    models[\"trainingPrice\"] = np.arange(10, 20)\n",
    "    models[\"trainingDate\"] = None \n",
    "    models[\"predictedDate\"] = None \n",
    "    models[\"predictedPrice\"] = None \n",
    "    models[\"realPrice\"] = np.arange(20, 30)\n",
    "\n",
    "    fit_linear_regression() \n",
    "\n",
    "init()"
   ]
  },
  {
   "cell_type": "code",
   "execution_count": 21,
   "metadata": {},
   "outputs": [
    {
     "name": "stdout",
     "output_type": "stream",
     "text": [
      "[0.34237568 0.87282081 0.52468545 0.76221227 0.31947735 0.7138634\n",
      " 0.25175499 0.46145561 0.54291682 0.01913542 0.20499282 0.41139063\n",
      " 0.15392333 0.05819558 0.79057002 0.94126463 0.60726139 0.58863993\n",
      " 0.80548061 0.50850953 0.1462767  0.76452241 0.52429515]\n",
      "[4.30726895 6.19724366 6.77670104]\n"
     ]
    }
   ],
   "source": [
    "def adjust_coefficient():  \n",
    "    models[\"coef_value\"] = np.random.rand(23)\n",
    "    predicted = np.zeros(models[\"test_x\"].shape[0]) \n",
    "    for i in range(models[\"test_x\"].shape[0]): \n",
    "        predicted[i] = np.dot(models[\"test_x\"][i], models[\"coef_value\"]) \n",
    "    models[\"predictedPrice\"] = predicted\n",
    "\n",
    "    \n",
    "    print(models[\"coef_value\"])\n",
    "    print(predicted)\n",
    "\n",
    "adjust_coefficient()"
   ]
  }
 ],
 "metadata": {
  "kernelspec": {
   "display_name": "Python 3.9.12 ('base')",
   "language": "python",
   "name": "python3"
  },
  "language_info": {
   "codemirror_mode": {
    "name": "ipython",
    "version": 3
   },
   "file_extension": ".py",
   "mimetype": "text/x-python",
   "name": "python",
   "nbconvert_exporter": "python",
   "pygments_lexer": "ipython3",
   "version": "3.9.12"
  },
  "orig_nbformat": 4,
  "vscode": {
   "interpreter": {
    "hash": "a06ceb449e19d37788f8b94863ce90f1e7740497cb716bc27fa268d5a3dced1a"
   }
  }
 },
 "nbformat": 4,
 "nbformat_minor": 2
}
