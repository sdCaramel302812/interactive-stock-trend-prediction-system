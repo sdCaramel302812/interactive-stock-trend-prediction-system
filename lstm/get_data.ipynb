{
 "cells": [
  {
   "cell_type": "code",
   "execution_count": 1,
   "metadata": {},
   "outputs": [],
   "source": [
    "import math\n",
    "import yfinance as yf\n",
    "import numpy as np\n",
    "import pandas as pd\n",
    "from sklearn.preprocessing import MinMaxScaler \n",
    "import matplotlib.pyplot as plt\n",
    "import tensorflow as tf\n",
    "from tensorflow import keras\n",
    "from tensorflow.keras import layers"
   ]
  },
  {
   "cell_type": "code",
   "execution_count": 14,
   "metadata": {},
   "outputs": [],
   "source": [
    "training_data_len = math.ceil(len(label)* 0.8)\n",
    "\n",
    "df = pd.read_pickle(\"sp500.pkl\")\n",
    "df_scaler = MinMaxScaler(feature_range=(0,1))\n",
    "scaled_data = df_scaler.fit_transform(df)\n",
    "\n",
    "label = df[\"close\"].values\n",
    "label_scaler = MinMaxScaler(feature_range=(0,1))\n",
    "scaled_label = label_scaler.fit_transform(label)"
   ]
  },
  {
   "cell_type": "code",
   "execution_count": 9,
   "metadata": {},
   "outputs": [
    {
     "data": {
      "text/plain": [
       "Index(['open', 'high', 'low', 'close', 'adj close', 'volume', 'change',\n",
       "       'open_delta', 'close_delta', 'volume_delta', 'high_low_diff_ratio',\n",
       "       'open_close_diff_ratio', 'close_-2_r', 'close_-6_r', 'kdjk', 'kdjd',\n",
       "       'kdjj', 'macd', 'macds', 'macdh', 'rsi_6', 'rsi_12', 'wr_6', 'wr_12',\n",
       "       'cci', 'atr', 'dma', 'vr', 'boll_-1_d', 'boll_ub_-1_d', 'boll_lb_-1_d',\n",
       "       'boll_k_diff', 'high_low_diff', 'open_close_diff'],\n",
       "      dtype='object')"
      ]
     },
     "execution_count": 9,
     "metadata": {},
     "output_type": "execute_result"
    }
   ],
   "source": [
    "df.columns"
   ]
  },
  {
   "cell_type": "markdown",
   "metadata": {},
   "source": [
    "# Model"
   ]
  },
  {
   "cell_type": "code",
   "execution_count": 15,
   "metadata": {},
   "outputs": [],
   "source": [
    "from tensorflow import keras\n",
    "model = keras.models.load_model('./models/best_model.h5')"
   ]
  },
  {
   "cell_type": "markdown",
   "metadata": {},
   "source": [
    "# Construct Data for LSTM "
   ]
  },
  {
   "cell_type": "code",
   "execution_count": 18,
   "metadata": {},
   "outputs": [],
   "source": [
    "# Train data\n",
    "train_data = scaled_data[0: training_data_len, :]\n",
    "\n",
    "x_train = []\n",
    "y_train = []\n",
    "\n",
    "for i in range(30, len(train_data)):\n",
    "    x_train.append(train_data[i-30:i, ])\n",
    "    y_train.append(train_data[i, ])\n",
    "    \n",
    "x_train, y_train = np.array(x_train), np.array(y_train)\n",
    "x_train = np.reshape(x_train, (x_train.shape[0], x_train.shape[1], x_train.shape[2]))"
   ]
  },
  {
   "cell_type": "code",
   "execution_count": 19,
   "metadata": {},
   "outputs": [],
   "source": [
    "# Test Data\n",
    "test_data = scaled_data[training_data_len-30: , : ]\n",
    "x_test = []\n",
    "y_test = []\n",
    "for i in range(30, len(test_data)):\n",
    "    x_test.append(test_data[i-30: i, ])\n",
    "    y_test.append(test_data[i, ])\n",
    "\n",
    "x_test, y_test = np.array(x_test), np.array(y_test)\n",
    "x_test = np.reshape(x_test, (x_test.shape[0], x_test.shape[1], x_test.shape[2]))"
   ]
  },
  {
   "cell_type": "code",
   "execution_count": 29,
   "metadata": {},
   "outputs": [],
   "source": [
    "predicted_train = model.predict(x_train)\n",
    "train_label = scaled_label[30:x_train.shape[0]+30]\n",
    "predicted_test = model.predict(x_test)\n",
    "test_label = scaled_label[x_train.shape[0]+30:]"
   ]
  },
  {
   "cell_type": "code",
   "execution_count": 30,
   "metadata": {},
   "outputs": [
    {
     "name": "stdout",
     "output_type": "stream",
     "text": [
      "(1982, 34)\n",
      "(503, 34)\n",
      "(1982, 34)\n",
      "(503, 34)\n"
     ]
    }
   ],
   "source": [
    "print(predicted_train.shape)\n",
    "print(predicted_test.shape)\n",
    "print(train_label.shape)\n",
    "print(test_label.shape)"
   ]
  },
  {
   "cell_type": "markdown",
   "metadata": {},
   "source": [
    "# As function"
   ]
  },
  {
   "cell_type": "code",
   "execution_count": 46,
   "metadata": {},
   "outputs": [],
   "source": [
    "def getScaledData(file):\n",
    "    df = pd.read_pickle(file)\n",
    "    df_scaler = MinMaxScaler(feature_range=(0,1))\n",
    "    scaled_data = df_scaler.fit_transform(df)\n",
    "    \n",
    "    label = df[\"close\"].values\n",
    "    label_scaler = MinMaxScaler(feature_range=(0,1))\n",
    "    scaled_label = label_scaler.fit_transform(label.reshape(-1,1))\n",
    "    \n",
    "    return scaled_data, scaled_label\n",
    "\n",
    "def getPredictionFromLSTM(training_data_len, scaled_data, scaled_label, model):\n",
    "    # Train data\n",
    "    train_data = scaled_data[0: training_data_len, :]\n",
    "    x_train = []\n",
    "    y_train = []\n",
    "    for i in range(30, len(train_data)):\n",
    "        x_train.append(train_data[i-30:i, ])\n",
    "        y_train.append(train_data[i, ])\n",
    "    x_train, y_train = np.array(x_train), np.array(y_train)\n",
    "    x_train = np.reshape(x_train, (x_train.shape[0], x_train.shape[1], x_train.shape[2]))\n",
    "    \n",
    "    # Test Data\n",
    "    test_data = scaled_data[training_data_len-30: , : ]\n",
    "    x_test = []\n",
    "    y_test = []\n",
    "    for i in range(30, len(test_data)):\n",
    "        x_test.append(test_data[i-30: i, ])\n",
    "        y_test.append(test_data[i, ])\n",
    "    x_test, y_test = np.array(x_test), np.array(y_test)\n",
    "    x_test = np.reshape(x_test, (x_test.shape[0], x_test.shape[1], x_test.shape[2]))\n",
    "    \n",
    "    predicted_train = model.predict(x_train)\n",
    "    train_label = scaled_label[30:x_train.shape[0]+30]\n",
    "    predicted_test = model.predict(x_test)\n",
    "    test_label = scaled_label[x_train.shape[0]+30:]\n",
    "    \n",
    "    return predicted_train, train_label.reshape(-1), predicted_test, test_label.reshape(-1)"
   ]
  },
  {
   "cell_type": "code",
   "execution_count": 47,
   "metadata": {},
   "outputs": [],
   "source": [
    "scaled_data, scaled_label = getScaledData('./sp500.pkl')\n",
    "model = keras.models.load_model('./models/best_model.h5')\n",
    "training_data_len = math.ceil(len(label)* 0.8)\n",
    "predicted_train, train_label, predicted_test, test_label = getPredictionFromLSTM(training_data_len, scaled_data, scaled_label, model)"
   ]
  },
  {
   "cell_type": "code",
   "execution_count": 48,
   "metadata": {},
   "outputs": [
    {
     "name": "stdout",
     "output_type": "stream",
     "text": [
      "(1982, 34)\n",
      "(503, 34)\n",
      "(1982,)\n",
      "(503,)\n"
     ]
    }
   ],
   "source": [
    "print(predicted_train.shape)\n",
    "print(predicted_test.shape)\n",
    "print(train_label.shape)\n",
    "print(test_label.shape)"
   ]
  },
  {
   "cell_type": "code",
   "execution_count": null,
   "metadata": {},
   "outputs": [],
   "source": []
  }
 ],
 "metadata": {
  "kernelspec": {
   "display_name": "Python 3.9.12 ('base')",
   "language": "python",
   "name": "python3"
  },
  "language_info": {
   "codemirror_mode": {
    "name": "ipython",
    "version": 3
   },
   "file_extension": ".py",
   "mimetype": "text/x-python",
   "name": "python",
   "nbconvert_exporter": "python",
   "pygments_lexer": "ipython3",
   "version": "3.9.12"
  },
  "vscode": {
   "interpreter": {
    "hash": "a06ceb449e19d37788f8b94863ce90f1e7740497cb716bc27fa268d5a3dced1a"
   }
  }
 },
 "nbformat": 4,
 "nbformat_minor": 4
}
